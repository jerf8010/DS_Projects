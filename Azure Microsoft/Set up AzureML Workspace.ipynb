{
 "cells": [
  {
   "cell_type": "code",
   "execution_count": 2,
   "id": "a0d91165",
   "metadata": {},
   "outputs": [
    {
     "name": "stdout",
     "output_type": "stream",
     "text": [
      "Workspace deleted\n"
     ]
    }
   ],
   "source": [
    "# Istructions for delete the workspace created previously\n",
    "from azureml.core import Workspace\n",
    "ws = Workspace.from_config(path = './').delete(delete_dependent_resources = True, no_wait = False)\n",
    "print('Workspace deleted')"
   ]
  },
  {
   "cell_type": "code",
   "execution_count": 4,
   "id": "f1bb9061",
   "metadata": {},
   "outputs": [
    {
     "name": "stdout",
     "output_type": "stream",
     "text": [
      "Deploying StorageAccount with name azuremlsstorage858c34f0b.\n",
      "Deploying AppInsights with name azuremlsinsightsd9409142.\n",
      "Deployed AppInsights with name azuremlsinsightsd9409142. Took 2.94 seconds.\n",
      "Deploying KeyVault with name azuremlskeyvault81ffebc8.\n",
      "Deployed KeyVault with name azuremlskeyvault81ffebc8. Took 18.08 seconds.\n",
      "Deployed StorageAccount with name azuremlsstorage858c34f0b. Took 24.1 seconds.\n",
      "Deploying Workspace with name Azureml-SDK-WS02.\n",
      "Deployed Workspace with name Azureml-SDK-WS02. Took 21.99 seconds.\n"
     ]
    }
   ],
   "source": [
    "# Import Workspace class\n",
    "from azureml.core import Workspace\n",
    "\n",
    "# Create the workspace\n",
    "ws = Workspace.create(name = 'Azureml-SDK-WS02',\n",
    "                     subscription_id = 'f0ec0447-a406-4c0a-922d-f468c99bce13',\n",
    "                     resource_group = 'AzuremlSDKRG01',\n",
    "                     create_resource_group = True,\n",
    "                    location = 'eastus2')"
   ]
  },
  {
   "cell_type": "code",
   "execution_count": 5,
   "id": "fcd5262d",
   "metadata": {},
   "outputs": [],
   "source": [
    "# Write the config-json file\n",
    "ws.write_config(path = './')"
   ]
  },
  {
   "cell_type": "code",
   "execution_count": 6,
   "id": "335c5c6f",
   "metadata": {},
   "outputs": [
    {
     "name": "stdout",
     "output_type": "stream",
     "text": [
      "Workspace.create(name='Azureml-SDK-WS02', subscription_id='f0ec0447-a406-4c0a-922d-f468c99bce13', resource_group='AzuremlSDKRG01')\n"
     ]
    }
   ],
   "source": [
    "print(ws)"
   ]
  },
  {
   "cell_type": "code",
   "execution_count": 7,
   "id": "a872554a",
   "metadata": {},
   "outputs": [],
   "source": [
    "# Create and Register a Datastore using AzureML\n",
    "from azureml.core import Datastore\n",
    "\n",
    "# Access the workspace from the config.json\n",
    "ws = Workspace.from_config(path = './')\n",
    "\n",
    "# Create a datastore\n",
    "az_store = Datastore.register_azure_blob_container(\n",
    "            workspace = ws,\n",
    "            datastore_name = 'azure_sdk_blob01',\n",
    "            account_name = 'auremlstb01',\n",
    "            container_name = 'azuremlstb01blob',\n",
    "            account_key = '7JXTP7Y4dN+TLzTz2I4l1buBhLlcAOGKJoiAs+YZAWltnbpDc5PDmoE2/ODlHt1raOt8dPEi1/OS+ASt8u3e2Q==')"
   ]
  },
  {
   "cell_type": "code",
   "execution_count": 8,
   "id": "8528d8bc",
   "metadata": {},
   "outputs": [
    {
     "name": "stdout",
     "output_type": "stream",
     "text": [
      "{\n",
      "  \"name\": \"azure_sdk_blob01\",\n",
      "  \"container_name\": \"azuremlstb01blob\",\n",
      "  \"account_name\": \"auremlstb01\",\n",
      "  \"protocol\": \"https\",\n",
      "  \"endpoint\": \"core.windows.net\"\n",
      "}\n"
     ]
    }
   ],
   "source": [
    "print(az_store)"
   ]
  },
  {
   "cell_type": "code",
   "execution_count": 9,
   "id": "f4d073a1",
   "metadata": {},
   "outputs": [
    {
     "name": "stdout",
     "output_type": "stream",
     "text": [
      "[({\n",
      "  \"name\": \"azure_sdk_blob01\",\n",
      "  \"container_name\": \"azuremlstb01blob\",\n",
      "  \"account_name\": \"auremlstb01\",\n",
      "  \"protocol\": \"https\",\n",
      "  \"endpoint\": \"core.windows.net\"\n",
      "}, './Loan Data/Loan Approval Prediction.csv')]\n"
     ]
    },
    {
     "ename": "DatasetValidationError",
     "evalue": "DatasetValidationError:\n\tMessage: Failed to validate the data.\nScriptExecutionException was caused by StreamAccessException.\n  StreamAccessException was caused by NotFoundException.\n    Found no resources for the input provided: '[REDACTED]'\n| session_id=f7e97e2a-27df-4ff0-a93b-9b869147f48b\n\tInnerException None\n\tErrorResponse \n{\n    \"error\": {\n        \"code\": \"UserError\",\n        \"message\": \"Failed to validate the data.\\nScriptExecutionException was caused by StreamAccessException.\\n  StreamAccessException was caused by NotFoundException.\\n    Found no resources for the input provided: '[REDACTED]'\\n| session_id=f7e97e2a-27df-4ff0-a93b-9b869147f48b\"\n    }\n}",
     "output_type": "error",
     "traceback": [
      "\u001b[0;31m---------------------------------------------------------------------------\u001b[0m",
      "\u001b[0;31mExecutionError\u001b[0m                            Traceback (most recent call last)",
      "File \u001b[0;32m/anaconda/envs/azureml_py38/lib/python3.8/site-packages/azureml/data/dataset_error_handling.py:65\u001b[0m, in \u001b[0;36m_validate_has_data\u001b[0;34m(dataflow, error_message)\u001b[0m\n\u001b[1;32m     64\u001b[0m \u001b[38;5;28;01mtry\u001b[39;00m:\n\u001b[0;32m---> 65\u001b[0m     \u001b[43mdataflow\u001b[49m\u001b[38;5;241;43m.\u001b[39;49m\u001b[43mverify_has_data\u001b[49m\u001b[43m(\u001b[49m\u001b[43m)\u001b[49m\n\u001b[1;32m     66\u001b[0m \u001b[38;5;28;01mexcept\u001b[39;00m (dataprep()\u001b[38;5;241m.\u001b[39mapi\u001b[38;5;241m.\u001b[39mdataflow\u001b[38;5;241m.\u001b[39mDataflowValidationError,\n\u001b[1;32m     67\u001b[0m         dataprep()\u001b[38;5;241m.\u001b[39mapi\u001b[38;5;241m.\u001b[39merrorhandlers\u001b[38;5;241m.\u001b[39mExecutionError) \u001b[38;5;28;01mas\u001b[39;00m e:\n",
      "File \u001b[0;32m/anaconda/envs/azureml_py38/lib/python3.8/site-packages/azureml/dataprep/api/_loggerfactory.py:213\u001b[0m, in \u001b[0;36mtrack.<locals>.monitor.<locals>.wrapper\u001b[0;34m(*args, **kwargs)\u001b[0m\n\u001b[1;32m    212\u001b[0m \u001b[38;5;28;01mtry\u001b[39;00m:\n\u001b[0;32m--> 213\u001b[0m     \u001b[38;5;28;01mreturn\u001b[39;00m \u001b[43mfunc\u001b[49m\u001b[43m(\u001b[49m\u001b[38;5;241;43m*\u001b[39;49m\u001b[43margs\u001b[49m\u001b[43m,\u001b[49m\u001b[43m \u001b[49m\u001b[38;5;241;43m*\u001b[39;49m\u001b[38;5;241;43m*\u001b[39;49m\u001b[43mkwargs\u001b[49m\u001b[43m)\u001b[49m\n\u001b[1;32m    214\u001b[0m \u001b[38;5;28;01mexcept\u001b[39;00m \u001b[38;5;167;01mException\u001b[39;00m \u001b[38;5;28;01mas\u001b[39;00m e:\n",
      "File \u001b[0;32m/anaconda/envs/azureml_py38/lib/python3.8/site-packages/azureml/dataprep/api/dataflow.py:852\u001b[0m, in \u001b[0;36mDataflow.verify_has_data\u001b[0;34m(self)\u001b[0m\n\u001b[1;32m    850\u001b[0m     \u001b[38;5;28;01mraise\u001b[39;00m EmptyStepsError()\n\u001b[0;32m--> 852\u001b[0m \u001b[38;5;28;01mif\u001b[39;00m \u001b[38;5;28mlen\u001b[39m(\u001b[38;5;28;43mself\u001b[39;49m\u001b[38;5;241;43m.\u001b[39;49m\u001b[43mtake\u001b[49m\u001b[43m(\u001b[49m\u001b[38;5;241;43m1\u001b[39;49m\u001b[43m)\u001b[49m\u001b[38;5;241;43m.\u001b[39;49m\u001b[43m_to_pyrecords\u001b[49m\u001b[43m(\u001b[49m\u001b[43m)\u001b[49m) \u001b[38;5;241m==\u001b[39m \u001b[38;5;241m0\u001b[39m:\n\u001b[1;32m    853\u001b[0m     \u001b[38;5;28;01mraise\u001b[39;00m DataflowValidationError(\u001b[38;5;124m\"\u001b[39m\u001b[38;5;124mThe Dataflow produced no records.\u001b[39m\u001b[38;5;124m\"\u001b[39m)\n",
      "File \u001b[0;32m/anaconda/envs/azureml_py38/lib/python3.8/site-packages/azureml/dataprep/api/dataflow.py:776\u001b[0m, in \u001b[0;36mDataflow._to_pyrecords\u001b[0;34m(self)\u001b[0m\n\u001b[1;32m    775\u001b[0m \u001b[38;5;28;01mtry\u001b[39;00m:\n\u001b[0;32m--> 776\u001b[0m     intermediate_files \u001b[38;5;241m=\u001b[39m \u001b[43m_write_preppy_with_fallback\u001b[49m\u001b[43m(\u001b[49m\u001b[38;5;124;43m'\u001b[39;49m\u001b[38;5;124;43mDataflow.to_pyrecords\u001b[39;49m\u001b[38;5;124;43m'\u001b[39;49m\u001b[43m,\u001b[49m\u001b[43m \u001b[49m\u001b[38;5;28;43mself\u001b[39;49m\u001b[43m,\u001b[49m\u001b[43m \u001b[49m\u001b[43mspan_context\u001b[49m\u001b[38;5;241;43m=\u001b[39;49m\u001b[43mto_dprep_span_context\u001b[49m\u001b[43m(\u001b[49m\u001b[43mspan\u001b[49m\u001b[38;5;241;43m.\u001b[39;49m\u001b[43mget_context\u001b[49m\u001b[43m(\u001b[49m\u001b[43m)\u001b[49m\u001b[43m)\u001b[49m\u001b[43m)\u001b[49m\n\u001b[1;32m    777\u001b[0m     \u001b[38;5;28;01mif\u001b[39;00m \u001b[38;5;28mlen\u001b[39m(intermediate_files) \u001b[38;5;241m==\u001b[39m \u001b[38;5;241m0\u001b[39m:\n",
      "File \u001b[0;32m/anaconda/envs/azureml_py38/lib/python3.8/site-packages/azureml/dataprep/api/_dataframereader.py:190\u001b[0m, in \u001b[0;36m_write_preppy_with_fallback\u001b[0;34m(activity, dataflow, force_clex, span_context)\u001b[0m\n\u001b[1;32m    181\u001b[0m dataflow_to_execute \u001b[38;5;241m=\u001b[39m dataflow\u001b[38;5;241m.\u001b[39madd_step(\u001b[38;5;124m'\u001b[39m\u001b[38;5;124mMicrosoft.DPrep.WritePreppyBlock\u001b[39m\u001b[38;5;124m'\u001b[39m, {\n\u001b[1;32m    182\u001b[0m     \u001b[38;5;124m'\u001b[39m\u001b[38;5;124moutputPath\u001b[39m\u001b[38;5;124m'\u001b[39m: {\n\u001b[1;32m    183\u001b[0m         \u001b[38;5;124m'\u001b[39m\u001b[38;5;124mtarget\u001b[39m\u001b[38;5;124m'\u001b[39m: \u001b[38;5;241m0\u001b[39m,\n\u001b[0;32m   (...)\u001b[0m\n\u001b[1;32m    187\u001b[0m     \u001b[38;5;124m'\u001b[39m\u001b[38;5;124mifDestinationExists\u001b[39m\u001b[38;5;124m'\u001b[39m: IfDestinationExists\u001b[38;5;241m.\u001b[39mREPLACE\n\u001b[1;32m    188\u001b[0m })\n\u001b[0;32m--> 190\u001b[0m \u001b[43m_execute_with_fallback\u001b[49m\u001b[43m(\u001b[49m\u001b[43mactivity\u001b[49m\u001b[43m,\u001b[49m\u001b[43m \u001b[49m\u001b[43mdataflow_to_execute\u001b[49m\u001b[43m,\u001b[49m\u001b[43m \u001b[49m\u001b[43mforce_clex\u001b[49m\u001b[38;5;241;43m=\u001b[39;49m\u001b[43mforce_clex\u001b[49m\u001b[43m,\u001b[49m\u001b[43m \u001b[49m\u001b[43mspan_context\u001b[49m\u001b[38;5;241;43m=\u001b[39;49m\u001b[43mspan_context\u001b[49m\u001b[43m)\u001b[49m\n\u001b[1;32m    192\u001b[0m \u001b[38;5;28;01mif\u001b[39;00m \u001b[38;5;129;01mnot\u001b[39;00m (intermediate_path \u001b[38;5;241m/\u001b[39m \u001b[38;5;124m'\u001b[39m\u001b[38;5;124m_SUCCESS\u001b[39m\u001b[38;5;124m'\u001b[39m)\u001b[38;5;241m.\u001b[39mexists():\n",
      "File \u001b[0;32m/anaconda/envs/azureml_py38/lib/python3.8/site-packages/azureml/dataprep/api/_dataframereader.py:238\u001b[0m, in \u001b[0;36m_execute_with_fallback\u001b[0;34m(activity, dataflow_to_execute, force_clex, span_context)\u001b[0m\n\u001b[1;32m    237\u001b[0m \u001b[38;5;28;01mtry\u001b[39;00m:\n\u001b[0;32m--> 238\u001b[0m     \u001b[43mclex_execute\u001b[49m\u001b[43m(\u001b[49m\u001b[43m)\u001b[49m\n\u001b[1;32m    239\u001b[0m \u001b[38;5;28;01mexcept\u001b[39;00m \u001b[38;5;167;01mException\u001b[39;00m \u001b[38;5;28;01mas\u001b[39;00m e:\n",
      "File \u001b[0;32m/anaconda/envs/azureml_py38/lib/python3.8/site-packages/azureml/dataprep/api/_dataframereader.py:216\u001b[0m, in \u001b[0;36m_execute_with_fallback.<locals>.clex_execute\u001b[0;34m()\u001b[0m\n\u001b[1;32m    215\u001b[0m activity_data \u001b[38;5;241m=\u001b[39m Dataflow\u001b[38;5;241m.\u001b[39m_dataflow_to_anonymous_activity_data(dataflow_to_execute)\n\u001b[0;32m--> 216\u001b[0m \u001b[43mdataflow_to_execute\u001b[49m\u001b[38;5;241;43m.\u001b[39;49m\u001b[43m_engine_api\u001b[49m\u001b[38;5;241;43m.\u001b[39;49m\u001b[43mexecute_anonymous_activity\u001b[49m\u001b[43m(\u001b[49m\n\u001b[1;32m    217\u001b[0m \u001b[43m    \u001b[49m\u001b[43mExecuteAnonymousActivityMessageArguments\u001b[49m\u001b[43m(\u001b[49m\n\u001b[1;32m    218\u001b[0m \u001b[43m        \u001b[49m\u001b[43manonymous_activity\u001b[49m\u001b[38;5;241;43m=\u001b[39;49m\u001b[43mactivity_data\u001b[49m\u001b[43m,\u001b[49m\n\u001b[1;32m    219\u001b[0m \u001b[43m        \u001b[49m\u001b[43mspan_context\u001b[49m\u001b[38;5;241;43m=\u001b[39;49m\u001b[43mspan_context\u001b[49m\n\u001b[1;32m    220\u001b[0m \u001b[43m    \u001b[49m\u001b[43m)\u001b[49m\n\u001b[1;32m    221\u001b[0m \u001b[43m\u001b[49m\u001b[43m)\u001b[49m\n",
      "File \u001b[0;32m/anaconda/envs/azureml_py38/lib/python3.8/site-packages/azureml/dataprep/api/_aml_helper.py:38\u001b[0m, in \u001b[0;36mupdate_aml_env_vars.<locals>.decorator.<locals>.wrapper\u001b[0;34m(op_code, message, cancellation_token)\u001b[0m\n\u001b[1;32m     37\u001b[0m     engine_api_func()\u001b[38;5;241m.\u001b[39mupdate_environment_variable(changed)\n\u001b[0;32m---> 38\u001b[0m \u001b[38;5;28;01mreturn\u001b[39;00m \u001b[43msend_message_func\u001b[49m\u001b[43m(\u001b[49m\u001b[43mop_code\u001b[49m\u001b[43m,\u001b[49m\u001b[43m \u001b[49m\u001b[43mmessage\u001b[49m\u001b[43m,\u001b[49m\u001b[43m \u001b[49m\u001b[43mcancellation_token\u001b[49m\u001b[43m)\u001b[49m\n",
      "File \u001b[0;32m/anaconda/envs/azureml_py38/lib/python3.8/site-packages/azureml/dataprep/api/engineapi/api.py:160\u001b[0m, in \u001b[0;36mEngineAPI.execute_anonymous_activity\u001b[0;34m(self, message_args, cancellation_token)\u001b[0m\n\u001b[1;32m    158\u001b[0m \u001b[38;5;129m@update_aml_env_vars\u001b[39m(get_engine_api)\n\u001b[1;32m    159\u001b[0m \u001b[38;5;28;01mdef\u001b[39;00m \u001b[38;5;21mexecute_anonymous_activity\u001b[39m(\u001b[38;5;28mself\u001b[39m, message_args: typedefinitions\u001b[38;5;241m.\u001b[39mExecuteAnonymousActivityMessageArguments, cancellation_token: CancellationToken \u001b[38;5;241m=\u001b[39m \u001b[38;5;28;01mNone\u001b[39;00m) \u001b[38;5;241m-\u001b[39m\u001b[38;5;241m>\u001b[39m \u001b[38;5;28;01mNone\u001b[39;00m:\n\u001b[0;32m--> 160\u001b[0m     response \u001b[38;5;241m=\u001b[39m \u001b[38;5;28;43mself\u001b[39;49m\u001b[38;5;241;43m.\u001b[39;49m\u001b[43m_message_channel\u001b[49m\u001b[38;5;241;43m.\u001b[39;49m\u001b[43msend_message\u001b[49m\u001b[43m(\u001b[49m\u001b[38;5;124;43m'\u001b[39;49m\u001b[38;5;124;43mEngine.ExecuteActivity\u001b[39;49m\u001b[38;5;124;43m'\u001b[39;49m\u001b[43m,\u001b[49m\u001b[43m \u001b[49m\u001b[43mmessage_args\u001b[49m\u001b[43m,\u001b[49m\u001b[43m \u001b[49m\u001b[43mcancellation_token\u001b[49m\u001b[43m)\u001b[49m\n\u001b[1;32m    161\u001b[0m     \u001b[38;5;28;01mreturn\u001b[39;00m response\n",
      "File \u001b[0;32m/anaconda/envs/azureml_py38/lib/python3.8/site-packages/azureml/dataprep/api/engineapi/engine.py:291\u001b[0m, in \u001b[0;36mMultiThreadMessageChannel.send_message\u001b[0;34m(self, op_code, message, cancellation_token)\u001b[0m\n\u001b[1;32m    290\u001b[0m     cancel_on_error()\n\u001b[0;32m--> 291\u001b[0m     \u001b[43mraise_engine_error\u001b[49m\u001b[43m(\u001b[49m\u001b[43mresponse\u001b[49m\u001b[43m[\u001b[49m\u001b[38;5;124;43m'\u001b[39;49m\u001b[38;5;124;43merror\u001b[39;49m\u001b[38;5;124;43m'\u001b[39;49m\u001b[43m]\u001b[49m\u001b[43m)\u001b[49m\n\u001b[1;32m    292\u001b[0m \u001b[38;5;28;01melse\u001b[39;00m:\n",
      "File \u001b[0;32m/anaconda/envs/azureml_py38/lib/python3.8/site-packages/azureml/dataprep/api/errorhandlers.py:10\u001b[0m, in \u001b[0;36mraise_engine_error\u001b[0;34m(error_response)\u001b[0m\n\u001b[1;32m      9\u001b[0m \u001b[38;5;28;01mif\u001b[39;00m \u001b[38;5;124m'\u001b[39m\u001b[38;5;124mScriptExecution\u001b[39m\u001b[38;5;124m'\u001b[39m \u001b[38;5;129;01min\u001b[39;00m error_code:\n\u001b[0;32m---> 10\u001b[0m     \u001b[38;5;28;01mraise\u001b[39;00m ExecutionError(error_response)\n\u001b[1;32m     11\u001b[0m \u001b[38;5;28;01mif\u001b[39;00m \u001b[38;5;124m'\u001b[39m\u001b[38;5;124mValidation\u001b[39m\u001b[38;5;124m'\u001b[39m \u001b[38;5;129;01min\u001b[39;00m error_code:\n",
      "\u001b[0;31mExecutionError\u001b[0m: \nError Code: ScriptExecution.StreamAccess.NotFound\nFailed Step: 0e58b90b-5782-41bf-b64e-2dc0c07cd6f9\nError Message: ScriptExecutionException was caused by StreamAccessException.\n  StreamAccessException was caused by NotFoundException.\n    Found no resources for the input provided: 'https://auremlstb01.blob.core.windows.net/azuremlstb01blob/Loan Data/Loan Approval Prediction.csv'\n| session_id=f7e97e2a-27df-4ff0-a93b-9b869147f48b",
      "\nDuring handling of the above exception, another exception occurred:\n",
      "\u001b[0;31mDatasetValidationError\u001b[0m                    Traceback (most recent call last)",
      "Input \u001b[0;32mIn [9]\u001b[0m, in \u001b[0;36m<module>\u001b[0;34m\u001b[0m\n\u001b[1;32m      9\u001b[0m \u001b[38;5;28mprint\u001b[39m(csv_path)\n\u001b[1;32m     11\u001b[0m \u001b[38;5;66;03m# Create the dataset\u001b[39;00m\n\u001b[0;32m---> 12\u001b[0m loan_dataset \u001b[38;5;241m=\u001b[39m \u001b[43mDataset\u001b[49m\u001b[38;5;241;43m.\u001b[39;49m\u001b[43mTabular\u001b[49m\u001b[38;5;241;43m.\u001b[39;49m\u001b[43mfrom_delimited_files\u001b[49m\u001b[43m(\u001b[49m\u001b[43mpath\u001b[49m\u001b[43m \u001b[49m\u001b[38;5;241;43m=\u001b[39;49m\u001b[43m \u001b[49m\u001b[43mcsv_path\u001b[49m\u001b[43m)\u001b[49m\n\u001b[1;32m     14\u001b[0m \u001b[38;5;66;03m# Register the dataset\u001b[39;00m\n\u001b[1;32m     15\u001b[0m loan_dataset \u001b[38;5;241m=\u001b[39m loan_dataset\u001b[38;5;241m.\u001b[39mregister(workspace \u001b[38;5;241m=\u001b[39m ws,\n\u001b[1;32m     16\u001b[0m                                      name \u001b[38;5;241m=\u001b[39m \u001b[38;5;124m'\u001b[39m\u001b[38;5;124mLoan Applications Using SDK\u001b[39m\u001b[38;5;124m'\u001b[39m,\n\u001b[1;32m     17\u001b[0m                                      create_new_version \u001b[38;5;241m=\u001b[39m \u001b[38;5;28;01mTrue\u001b[39;00m,\n\u001b[1;32m     18\u001b[0m                                       validate \u001b[38;5;241m=\u001b[39m \u001b[38;5;28;01mFalse\u001b[39;00m,\n\u001b[1;32m     19\u001b[0m                                       infer_column_types \u001b[38;5;241m=\u001b[39m \u001b[38;5;28;01mFalse\u001b[39;00m)\n",
      "File \u001b[0;32m/anaconda/envs/azureml_py38/lib/python3.8/site-packages/azureml/data/_loggerfactory.py:132\u001b[0m, in \u001b[0;36mtrack.<locals>.monitor.<locals>.wrapper\u001b[0;34m(*args, **kwargs)\u001b[0m\n\u001b[1;32m    130\u001b[0m \u001b[38;5;28;01mwith\u001b[39;00m _LoggerFactory\u001b[38;5;241m.\u001b[39mtrack_activity(logger, func\u001b[38;5;241m.\u001b[39m\u001b[38;5;18m__name__\u001b[39m, activity_type, custom_dimensions) \u001b[38;5;28;01mas\u001b[39;00m al:\n\u001b[1;32m    131\u001b[0m     \u001b[38;5;28;01mtry\u001b[39;00m:\n\u001b[0;32m--> 132\u001b[0m         \u001b[38;5;28;01mreturn\u001b[39;00m \u001b[43mfunc\u001b[49m\u001b[43m(\u001b[49m\u001b[38;5;241;43m*\u001b[39;49m\u001b[43margs\u001b[49m\u001b[43m,\u001b[49m\u001b[43m \u001b[49m\u001b[38;5;241;43m*\u001b[39;49m\u001b[38;5;241;43m*\u001b[39;49m\u001b[43mkwargs\u001b[49m\u001b[43m)\u001b[49m\n\u001b[1;32m    133\u001b[0m     \u001b[38;5;28;01mexcept\u001b[39;00m \u001b[38;5;167;01mException\u001b[39;00m \u001b[38;5;28;01mas\u001b[39;00m e:\n\u001b[1;32m    134\u001b[0m         \u001b[38;5;28;01mif\u001b[39;00m \u001b[38;5;28mhasattr\u001b[39m(al, \u001b[38;5;124m'\u001b[39m\u001b[38;5;124mactivity_info\u001b[39m\u001b[38;5;124m'\u001b[39m) \u001b[38;5;129;01mand\u001b[39;00m \u001b[38;5;28mhasattr\u001b[39m(e, \u001b[38;5;124m'\u001b[39m\u001b[38;5;124merror_code\u001b[39m\u001b[38;5;124m'\u001b[39m):\n",
      "File \u001b[0;32m/anaconda/envs/azureml_py38/lib/python3.8/site-packages/azureml/data/dataset_factory.py:366\u001b[0m, in \u001b[0;36mTabularDatasetFactory.from_delimited_files\u001b[0;34m(path, validate, include_path, infer_column_types, set_column_types, separator, header, partition_format, support_multi_line, empty_as_string, encoding)\u001b[0m\n\u001b[1;32m    356\u001b[0m \u001b[38;5;28;01melse\u001b[39;00m:\n\u001b[1;32m    357\u001b[0m     dataflow \u001b[38;5;241m=\u001b[39m dataprep()\u001b[38;5;241m.\u001b[39mread_csv(path,\n\u001b[1;32m    358\u001b[0m                                    verify_exists\u001b[38;5;241m=\u001b[39m\u001b[38;5;28;01mFalse\u001b[39;00m,\n\u001b[1;32m    359\u001b[0m                                    include_path\u001b[38;5;241m=\u001b[39m\u001b[38;5;28;01mTrue\u001b[39;00m,\n\u001b[0;32m   (...)\u001b[0m\n\u001b[1;32m    363\u001b[0m                                    quoting\u001b[38;5;241m=\u001b[39msupport_multi_line,\n\u001b[1;32m    364\u001b[0m                                    encoding\u001b[38;5;241m=\u001b[39mencoding)\n\u001b[0;32m--> 366\u001b[0m dataflow \u001b[38;5;241m=\u001b[39m \u001b[43m_transform_and_validate\u001b[49m\u001b[43m(\u001b[49m\n\u001b[1;32m    367\u001b[0m \u001b[43m    \u001b[49m\u001b[43mdataflow\u001b[49m\u001b[43m,\u001b[49m\u001b[43m \u001b[49m\u001b[43mpartition_format\u001b[49m\u001b[43m,\u001b[49m\u001b[43m \u001b[49m\u001b[43minclude_path\u001b[49m\u001b[43m,\u001b[49m\n\u001b[1;32m    368\u001b[0m \u001b[43m    \u001b[49m\u001b[43mvalidate\u001b[49m\u001b[43m,\u001b[49m\n\u001b[1;32m    369\u001b[0m \u001b[43m    \u001b[49m\u001b[43minfer_column_types\u001b[49m\u001b[43m \u001b[49m\u001b[38;5;129;43;01mor\u001b[39;49;00m\u001b[43m \u001b[49m\u001b[43m_is_inference_required\u001b[49m\u001b[43m(\u001b[49m\u001b[43mset_column_types\u001b[49m\u001b[43m)\u001b[49m\u001b[43m)\u001b[49m\n\u001b[1;32m    370\u001b[0m \u001b[38;5;28;01mif\u001b[39;00m infer_column_types:\n\u001b[1;32m    371\u001b[0m     column_types_builder \u001b[38;5;241m=\u001b[39m dataflow\u001b[38;5;241m.\u001b[39mbuilders\u001b[38;5;241m.\u001b[39mset_column_types()\n",
      "File \u001b[0;32m/anaconda/envs/azureml_py38/lib/python3.8/site-packages/azureml/data/dataset_factory.py:1166\u001b[0m, in \u001b[0;36m_transform_and_validate\u001b[0;34m(dataflow, partition_format, include_path, validate, infer_column_types)\u001b[0m\n\u001b[1;32m   1164\u001b[0m     dataflow \u001b[38;5;241m=\u001b[39m dataflow\u001b[38;5;241m.\u001b[39mdrop_columns(\u001b[38;5;124m'\u001b[39m\u001b[38;5;124mPath\u001b[39m\u001b[38;5;124m'\u001b[39m)\n\u001b[1;32m   1165\u001b[0m \u001b[38;5;28;01mif\u001b[39;00m validate:\n\u001b[0;32m-> 1166\u001b[0m     \u001b[43m_validate_has_data\u001b[49m\u001b[43m(\u001b[49m\u001b[43mdataflow\u001b[49m\u001b[43m,\u001b[49m\u001b[43m \u001b[49m\u001b[38;5;124;43m'\u001b[39;49m\u001b[38;5;124;43mFailed to validate the data.\u001b[39;49m\u001b[38;5;124;43m'\u001b[39;49m\u001b[43m)\u001b[49m\n\u001b[1;32m   1167\u001b[0m \u001b[38;5;28;01melif\u001b[39;00m infer_column_types:\n\u001b[1;32m   1168\u001b[0m     _validate_has_data(dataflow, \u001b[38;5;124m'\u001b[39m\u001b[38;5;124mFailed to infer column type.\u001b[39m\u001b[38;5;124m'\u001b[39m\n\u001b[1;32m   1169\u001b[0m                                  \u001b[38;5;124m'\u001b[39m\u001b[38;5;124mif data is inaccessible, please set infer_column_types to False.\u001b[39m\u001b[38;5;124m'\u001b[39m)\n",
      "File \u001b[0;32m/anaconda/envs/azureml_py38/lib/python3.8/site-packages/azureml/data/dataset_error_handling.py:68\u001b[0m, in \u001b[0;36m_validate_has_data\u001b[0;34m(dataflow, error_message)\u001b[0m\n\u001b[1;32m     65\u001b[0m     dataflow\u001b[38;5;241m.\u001b[39mverify_has_data()\n\u001b[1;32m     66\u001b[0m \u001b[38;5;28;01mexcept\u001b[39;00m (dataprep()\u001b[38;5;241m.\u001b[39mapi\u001b[38;5;241m.\u001b[39mdataflow\u001b[38;5;241m.\u001b[39mDataflowValidationError,\n\u001b[1;32m     67\u001b[0m         dataprep()\u001b[38;5;241m.\u001b[39mapi\u001b[38;5;241m.\u001b[39merrorhandlers\u001b[38;5;241m.\u001b[39mExecutionError) \u001b[38;5;28;01mas\u001b[39;00m e:\n\u001b[0;32m---> 68\u001b[0m     \u001b[38;5;28;01mraise\u001b[39;00m DatasetValidationError(error_message \u001b[38;5;241m+\u001b[39m \u001b[38;5;124m'\u001b[39m\u001b[38;5;130;01m\\n\u001b[39;00m\u001b[38;5;124m'\u001b[39m \u001b[38;5;241m+\u001b[39m e\u001b[38;5;241m.\u001b[39mcompliant_message, exception\u001b[38;5;241m=\u001b[39me)\n",
      "\u001b[0;31mDatasetValidationError\u001b[0m: DatasetValidationError:\n\tMessage: Failed to validate the data.\nScriptExecutionException was caused by StreamAccessException.\n  StreamAccessException was caused by NotFoundException.\n    Found no resources for the input provided: '[REDACTED]'\n| session_id=f7e97e2a-27df-4ff0-a93b-9b869147f48b\n\tInnerException None\n\tErrorResponse \n{\n    \"error\": {\n        \"code\": \"UserError\",\n        \"message\": \"Failed to validate the data.\\nScriptExecutionException was caused by StreamAccessException.\\n  StreamAccessException was caused by NotFoundException.\\n    Found no resources for the input provided: '[REDACTED]'\\n| session_id=f7e97e2a-27df-4ff0-a93b-9b869147f48b\"\n    }\n}"
     ]
    }
   ],
   "source": [
    "# Create and register a dataset using SDK\n",
    "from azureml.core import Dataset\n",
    "\n",
    "# Access\n",
    "az_store = Datastore.get(ws, az_store.name)\n",
    "\n",
    "# Create the path of the csv file\n",
    "csv_path = [(az_store, './Loan Data/Loan Approval Prediction.csv')]\n",
    "print(csv_path)\n",
    "\n",
    "# Create the dataset\n",
    "loan_dataset = Dataset.Tabular.from_delimited_files(path = csv_path)\n",
    "\n",
    "# Register the dataset\n",
    "loan_dataset = loan_dataset.register(workspace = ws,\n",
    "                                     name = 'Loan Applications Using SDK',\n",
    "                                     create_new_version = True,\n",
    "                                      validate = False,\n",
    "                                      infer_column_types = False)"
   ]
  },
  {
   "cell_type": "code",
   "execution_count": 11,
   "id": "e3a2affe",
   "metadata": {},
   "outputs": [
    {
     "name": "stdout",
     "output_type": "stream",
     "text": [
      "['fitta-project', 'Azureml-SDK-WS01', 'Azureml-SDK-WS02']\n"
     ]
    }
   ],
   "source": [
    "# List all the workspaces within a subscription\n",
    "ws_list = Workspace.list(subscription_id = 'f0ec0447-a406-4c0a-922d-f468c99bce13')\n",
    "ws_list = list(ws_list)\n",
    "print(ws_list)"
   ]
  },
  {
   "cell_type": "code",
   "execution_count": 12,
   "id": "1aea54bd",
   "metadata": {},
   "outputs": [],
   "source": [
    "#  Access the default datastore from workspace\n",
    "az_default_store = ws.get_default_datastore()"
   ]
  },
  {
   "cell_type": "code",
   "execution_count": 13,
   "id": "91656585",
   "metadata": {},
   "outputs": [
    {
     "data": {
      "text/plain": [
       "['azure_sdk_blob01',\n",
       " 'workspaceworkingdirectory',\n",
       " 'workspaceartifactstore',\n",
       " 'workspaceblobstore',\n",
       " 'workspacefilestore']"
      ]
     },
     "execution_count": 13,
     "metadata": {},
     "output_type": "execute_result"
    }
   ],
   "source": [
    "# List all the datastores\n",
    "store_list = list(ws.datastores)\n",
    "store_list"
   ]
  },
  {
   "cell_type": "code",
   "execution_count": 15,
   "id": "63f81ebe",
   "metadata": {},
   "outputs": [],
   "source": [
    "# Get the datasets from a workspace\n",
    "az_dataset = Dataset.get_by_name(ws, 'Loan Applications Using SDK')"
   ]
  },
  {
   "cell_type": "code",
   "execution_count": 17,
   "id": "854e66fc",
   "metadata": {},
   "outputs": [
    {
     "data": {
      "text/plain": [
       "[]"
      ]
     },
     "execution_count": 17,
     "metadata": {},
     "output_type": "execute_result"
    }
   ],
   "source": [
    "# List datasets from a workspace\n",
    "ds_list = list(ws.datasets.keys())\n",
    "ds_list"
   ]
  },
  {
   "cell_type": "code",
   "execution_count": null,
   "id": "2093b8ff",
   "metadata": {},
   "outputs": [],
   "source": []
  },
  {
   "cell_type": "code",
   "execution_count": null,
   "id": "f0b7e576",
   "metadata": {},
   "outputs": [],
   "source": []
  },
  {
   "cell_type": "code",
   "execution_count": null,
   "id": "8082cb32",
   "metadata": {},
   "outputs": [],
   "source": []
  }
 ],
 "metadata": {
  "kernelspec": {
   "display_name": "Python 3",
   "language": "python",
   "name": "python3"
  },
  "language_info": {
   "codemirror_mode": {
    "name": "ipython",
    "version": 3
   },
   "file_extension": ".py",
   "mimetype": "text/x-python",
   "name": "python",
   "nbconvert_exporter": "python",
   "pygments_lexer": "ipython3",
   "version": "3.8.1"
  }
 },
 "nbformat": 4,
 "nbformat_minor": 5
}
