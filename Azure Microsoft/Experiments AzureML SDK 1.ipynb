{
 "cells": [
  {
   "cell_type": "code",
   "execution_count": 1,
   "id": "cc826138",
   "metadata": {},
   "outputs": [
    {
     "name": "stdout",
     "output_type": "stream",
     "text": [
      "Workspace.create(name='Azureml-SDK-WS02', subscription_id='f0ec0447-a406-4c0a-922d-f468c99bce13', resource_group='AzuremlSDKRG01')\n"
     ]
    }
   ],
   "source": [
    "from azureml.core import Workspace\n",
    "\n",
    "ws = Workspace.from_config()\n",
    "print(ws)"
   ]
  },
  {
   "cell_type": "code",
   "execution_count": 5,
   "id": "04767c12",
   "metadata": {},
   "outputs": [
    {
     "data": {
      "text/plain": [
       "{\n",
       "  \"name\": \"azure_sdk_blob01\",\n",
       "  \"container_name\": \"azuremlstb01blob\",\n",
       "  \"account_name\": \"auremlstb01\",\n",
       "  \"protocol\": \"https\",\n",
       "  \"endpoint\": \"core.windows.net\"\n",
       "}"
      ]
     },
     "execution_count": 5,
     "metadata": {},
     "output_type": "execute_result"
    }
   ],
   "source": [
    "from azureml.core import Datastore\n",
    "\n",
    "# Create a datastore\n",
    "az_store = Datastore.register_azure_blob_container(\n",
    "            workspace = ws,\n",
    "            datastore_name = 'azure_sdk_blob01',\n",
    "            account_name = 'auremlstb01',\n",
    "            container_name = 'azuremlstb01blob',\n",
    "            account_key = '7JXTP7Y4dN+TLzTz2I4l1buBhLlcAOGKJoiAs+YZAWltnbpDc5PDmoE2/ODlHt1raOt8dPEi1/OS+ASt8u3e2Q==')\n",
    "az_store"
   ]
  },
  {
   "cell_type": "code",
   "execution_count": 14,
   "id": "49c1eba9",
   "metadata": {},
   "outputs": [
    {
     "data": {
      "text/plain": [
       "{\n",
       "  \"name\": \"workspaceblobstore\",\n",
       "  \"container_name\": \"azureml-blobstore-c660939c-46a0-404a-80eb-a5b1b21d88cc\",\n",
       "  \"account_name\": \"azuremlsstorage858c34f0b\",\n",
       "  \"protocol\": \"https\",\n",
       "  \"endpoint\": \"core.windows.net\"\n",
       "}"
      ]
     },
     "execution_count": 14,
     "metadata": {},
     "output_type": "execute_result"
    }
   ],
   "source": [
    "ds = ws.get_default_datastore()\n",
    "ds"
   ]
  },
  {
   "cell_type": "code",
   "execution_count": 18,
   "id": "48ff5610",
   "metadata": {},
   "outputs": [
    {
     "name": "stdout",
     "output_type": "stream",
     "text": [
      "Uploading an estimated of 1 files\n",
      "Uploading ./loan/Loan Approval Prediction.csv\n",
      "Uploaded ./loan/Loan Approval Prediction.csv, 1 files out of an estimated total of 1\n",
      "Uploaded 1 files\n"
     ]
    },
    {
     "data": {
      "text/plain": [
       "$AZUREML_DATAREFERENCE_af3e68065a03401b97c50b08823a508d"
      ]
     },
     "execution_count": 18,
     "metadata": {},
     "output_type": "execute_result"
    }
   ],
   "source": [
    "ds.upload(src_dir='./loan', target_path='loan', overwrite=True, show_progress=True)\n"
   ]
  },
  {
   "cell_type": "code",
   "execution_count": 21,
   "id": "0b987122",
   "metadata": {},
   "outputs": [
    {
     "name": "stdout",
     "output_type": "stream",
     "text": [
      "[({\n",
      "  \"name\": \"workspaceblobstore\",\n",
      "  \"container_name\": \"azureml-blobstore-c660939c-46a0-404a-80eb-a5b1b21d88cc\",\n",
      "  \"account_name\": \"azuremlsstorage858c34f0b\",\n",
      "  \"protocol\": \"https\",\n",
      "  \"endpoint\": \"core.windows.net\"\n",
      "}, '/loan/Loan Approval Prediction.csv')]\n"
     ]
    }
   ],
   "source": [
    "# Create and register a dataset using SDK\n",
    "from azureml.core import Dataset\n",
    "\n",
    "# Access\n",
    "# az_store = Datastore.get(ws, az_store.name)\n",
    "\n",
    "# Create the path of the csv file\n",
    "csv_path = [(ds, '/loan/Loan Approval Prediction.csv')]\n",
    "print(csv_path)\n",
    "\n",
    "# Create the dataset\n",
    "loan_dataset = Dataset.Tabular.from_delimited_files(path = csv_path)\n",
    "\n",
    "# Register the dataset\n",
    "loan_dataset = loan_dataset.register(workspace = ws,\n",
    "                                     name = 'Loan Applications Using SDK',\n",
    "                                     create_new_version = True)"
   ]
  },
  {
   "cell_type": "code",
   "execution_count": 22,
   "id": "725bd56c",
   "metadata": {},
   "outputs": [
    {
     "data": {
      "text/plain": [
       "{\n",
       "  \"source\": [\n",
       "    \"('workspaceblobstore', 'loan/Loan Approval Prediction.csv')\"\n",
       "  ],\n",
       "  \"definition\": [\n",
       "    \"GetDatastoreFiles\",\n",
       "    \"ParseDelimited\",\n",
       "    \"DropColumns\",\n",
       "    \"SetColumnTypes\"\n",
       "  ],\n",
       "  \"registration\": {\n",
       "    \"id\": \"2927f7d8-0dea-4dda-82c5-7b4132a6f1ee\",\n",
       "    \"name\": \"Loan Applications Using SDK\",\n",
       "    \"version\": 1,\n",
       "    \"workspace\": \"Workspace.create(name='Azureml-SDK-WS02', subscription_id='f0ec0447-a406-4c0a-922d-f468c99bce13', resource_group='AzuremlSDKRG01')\"\n",
       "  }\n",
       "}"
      ]
     },
     "execution_count": 22,
     "metadata": {},
     "output_type": "execute_result"
    }
   ],
   "source": [
    "loan_dataset"
   ]
  },
  {
   "cell_type": "code",
   "execution_count": 23,
   "id": "727fbbdb",
   "metadata": {},
   "outputs": [
    {
     "data": {
      "text/plain": [
       "['Loan Applications Using SDK']"
      ]
     },
     "execution_count": 23,
     "metadata": {},
     "output_type": "execute_result"
    }
   ],
   "source": [
    "ds_list = list(ws.datasets.keys())\n",
    "ds_list"
   ]
  },
  {
   "cell_type": "markdown",
   "id": "30947933",
   "metadata": {},
   "source": [
    "## Access the Workspace, Datastore and Datasets"
   ]
  },
  {
   "cell_type": "code",
   "execution_count": 27,
   "id": "f244db8e",
   "metadata": {},
   "outputs": [],
   "source": [
    "from azureml.core import Workspace, Datastore, Dataset, Experiment\n",
    "\n",
    "ws = Workspace.from_config()\n",
    "az_store = Datastore.get(ws, 'azure_sdk_blob01')\n",
    "az_dataset = Dataset.get_by_name(ws, 'Loan Applications Using SDK')\n",
    "az_default_store = ws.get_default_datastore()"
   ]
  },
  {
   "cell_type": "markdown",
   "id": "e9595ca7",
   "metadata": {},
   "source": [
    "## Create/Access an experiment object"
   ]
  },
  {
   "cell_type": "code",
   "execution_count": 28,
   "id": "624b45fd",
   "metadata": {},
   "outputs": [
    {
     "data": {
      "text/html": [
       "<table style=\"width:100%\"><tr><th>Name</th><th>Workspace</th><th>Report Page</th><th>Docs Page</th></tr><tr><td>Loan-SDK-Exp01</td><td>Azureml-SDK-WS02</td><td><a href=\"https://ml.azure.com/experiments/id/d89549df-fa62-4cf4-8438-3f6a8361c0e3?wsid=/subscriptions/f0ec0447-a406-4c0a-922d-f468c99bce13/resourcegroups/AzuremlSDKRG01/workspaces/Azureml-SDK-WS02&amp;tid=f94bf4d9-8097-4794-adf6-a5466ca28563\" target=\"_blank\" rel=\"noopener\">Link to Azure Machine Learning studio</a></td><td><a href=\"https://docs.microsoft.com/en-us/python/api/azureml-core/azureml.core.experiment.Experiment?view=azure-ml-py\" target=\"_blank\" rel=\"noopener\">Link to Documentation</a></td></tr></table>"
      ],
      "text/plain": [
       "Experiment(Name: Loan-SDK-Exp01,\n",
       "Workspace: Azureml-SDK-WS02)"
      ]
     },
     "execution_count": 28,
     "metadata": {},
     "output_type": "execute_result"
    }
   ],
   "source": [
    "experiment = Experiment(workspace = ws,\n",
    "                       name = 'Loan-SDK-Exp01')\n",
    "experiment"
   ]
  },
  {
   "cell_type": "markdown",
   "id": "6aef0eeb",
   "metadata": {},
   "source": [
    "## Run Experiment"
   ]
  },
  {
   "cell_type": "code",
   "execution_count": 40,
   "id": "ae31a07a",
   "metadata": {},
   "outputs": [
    {
     "data": {
      "text/html": [
       "<table style=\"width:100%\"><tr><th>Experiment</th><th>Id</th><th>Type</th><th>Status</th><th>Details Page</th><th>Docs Page</th></tr><tr><td>Loan-SDK-Exp01</td><td>c4856770-210c-4982-ab20-c457048bfd9a</td><td></td><td>Running</td><td><a href=\"https://ml.azure.com/runs/c4856770-210c-4982-ab20-c457048bfd9a?wsid=/subscriptions/f0ec0447-a406-4c0a-922d-f468c99bce13/resourcegroups/AzuremlSDKRG01/workspaces/Azureml-SDK-WS02&amp;tid=f94bf4d9-8097-4794-adf6-a5466ca28563\" target=\"_blank\" rel=\"noopener\">Link to Azure Machine Learning studio</a></td><td><a href=\"https://docs.microsoft.com/en-us/python/api/azureml-core/azureml.core.run.Run?view=azure-ml-py\" target=\"_blank\" rel=\"noopener\">Link to Documentation</a></td></tr></table>"
      ],
      "text/plain": [
       "Run(Experiment: Loan-SDK-Exp01,\n",
       "Id: c4856770-210c-4982-ab20-c457048bfd9a,\n",
       "Type: None,\n",
       "Status: Running)"
      ]
     },
     "execution_count": 40,
     "metadata": {},
     "output_type": "execute_result"
    }
   ],
   "source": [
    "new_run = experiment.start_logging()\n",
    "new_run"
   ]
  },
  {
   "cell_type": "code",
   "execution_count": 32,
   "id": "97dfa68a",
   "metadata": {},
   "outputs": [
    {
     "data": {
      "text/html": [
       "<div>\n",
       "<style scoped>\n",
       "    .dataframe tbody tr th:only-of-type {\n",
       "        vertical-align: middle;\n",
       "    }\n",
       "\n",
       "    .dataframe tbody tr th {\n",
       "        vertical-align: top;\n",
       "    }\n",
       "\n",
       "    .dataframe thead th {\n",
       "        text-align: right;\n",
       "    }\n",
       "</style>\n",
       "<table border=\"1\" class=\"dataframe\">\n",
       "  <thead>\n",
       "    <tr style=\"text-align: right;\">\n",
       "      <th></th>\n",
       "      <th>Loan_ID</th>\n",
       "      <th>Gender</th>\n",
       "      <th>Married</th>\n",
       "      <th>Dependents</th>\n",
       "      <th>Education</th>\n",
       "      <th>Self_Employed</th>\n",
       "      <th>ApplicantIncome</th>\n",
       "      <th>CoapplicantIncome</th>\n",
       "      <th>LoanAmount</th>\n",
       "      <th>Loan_Amount_Term</th>\n",
       "      <th>Credit_History</th>\n",
       "      <th>Property_Area</th>\n",
       "      <th>Loan_Status</th>\n",
       "    </tr>\n",
       "  </thead>\n",
       "  <tbody>\n",
       "    <tr>\n",
       "      <th>0</th>\n",
       "      <td>LP001002</td>\n",
       "      <td>Male</td>\n",
       "      <td>False</td>\n",
       "      <td>0</td>\n",
       "      <td>Graduate</td>\n",
       "      <td>False</td>\n",
       "      <td>5849</td>\n",
       "      <td>0.0</td>\n",
       "      <td>NaN</td>\n",
       "      <td>360.0</td>\n",
       "      <td>1.0</td>\n",
       "      <td>Urban</td>\n",
       "      <td>True</td>\n",
       "    </tr>\n",
       "    <tr>\n",
       "      <th>1</th>\n",
       "      <td>LP001003</td>\n",
       "      <td>Male</td>\n",
       "      <td>True</td>\n",
       "      <td>1</td>\n",
       "      <td>Graduate</td>\n",
       "      <td>False</td>\n",
       "      <td>4583</td>\n",
       "      <td>1508.0</td>\n",
       "      <td>128.0</td>\n",
       "      <td>360.0</td>\n",
       "      <td>1.0</td>\n",
       "      <td>Rural</td>\n",
       "      <td>False</td>\n",
       "    </tr>\n",
       "    <tr>\n",
       "      <th>2</th>\n",
       "      <td>LP001005</td>\n",
       "      <td>Male</td>\n",
       "      <td>True</td>\n",
       "      <td>0</td>\n",
       "      <td>Graduate</td>\n",
       "      <td>True</td>\n",
       "      <td>3000</td>\n",
       "      <td>0.0</td>\n",
       "      <td>66.0</td>\n",
       "      <td>360.0</td>\n",
       "      <td>1.0</td>\n",
       "      <td>Urban</td>\n",
       "      <td>True</td>\n",
       "    </tr>\n",
       "    <tr>\n",
       "      <th>3</th>\n",
       "      <td>LP001006</td>\n",
       "      <td>Male</td>\n",
       "      <td>True</td>\n",
       "      <td>0</td>\n",
       "      <td>Not Graduate</td>\n",
       "      <td>False</td>\n",
       "      <td>2583</td>\n",
       "      <td>2358.0</td>\n",
       "      <td>120.0</td>\n",
       "      <td>360.0</td>\n",
       "      <td>1.0</td>\n",
       "      <td>Urban</td>\n",
       "      <td>True</td>\n",
       "    </tr>\n",
       "    <tr>\n",
       "      <th>4</th>\n",
       "      <td>LP001008</td>\n",
       "      <td>Male</td>\n",
       "      <td>False</td>\n",
       "      <td>0</td>\n",
       "      <td>Graduate</td>\n",
       "      <td>False</td>\n",
       "      <td>6000</td>\n",
       "      <td>0.0</td>\n",
       "      <td>141.0</td>\n",
       "      <td>360.0</td>\n",
       "      <td>1.0</td>\n",
       "      <td>Urban</td>\n",
       "      <td>True</td>\n",
       "    </tr>\n",
       "  </tbody>\n",
       "</table>\n",
       "</div>"
      ],
      "text/plain": [
       "    Loan_ID Gender Married Dependents     Education Self_Employed  \\\n",
       "0  LP001002   Male   False          0      Graduate         False   \n",
       "1  LP001003   Male    True          1      Graduate         False   \n",
       "2  LP001005   Male    True          0      Graduate          True   \n",
       "3  LP001006   Male    True          0  Not Graduate         False   \n",
       "4  LP001008   Male   False          0      Graduate         False   \n",
       "\n",
       "   ApplicantIncome  CoapplicantIncome  LoanAmount  Loan_Amount_Term  \\\n",
       "0             5849                0.0         NaN             360.0   \n",
       "1             4583             1508.0       128.0             360.0   \n",
       "2             3000                0.0        66.0             360.0   \n",
       "3             2583             2358.0       120.0             360.0   \n",
       "4             6000                0.0       141.0             360.0   \n",
       "\n",
       "   Credit_History Property_Area  Loan_Status  \n",
       "0             1.0         Urban         True  \n",
       "1             1.0         Rural        False  \n",
       "2             1.0         Urban         True  \n",
       "3             1.0         Urban         True  \n",
       "4             1.0         Urban         True  "
      ]
     },
     "execution_count": 32,
     "metadata": {},
     "output_type": "execute_result"
    }
   ],
   "source": [
    "df = az_dataset.to_pandas_dataframe()\n",
    "df.head(5)"
   ]
  },
  {
   "cell_type": "code",
   "execution_count": 33,
   "id": "9d26e64b",
   "metadata": {},
   "outputs": [
    {
     "data": {
      "text/plain": [
       "614"
      ]
     },
     "execution_count": 33,
     "metadata": {},
     "output_type": "execute_result"
    }
   ],
   "source": [
    "# count the observations\n",
    "total_observations = len(df)\n",
    "total_observations"
   ]
  },
  {
   "cell_type": "code",
   "execution_count": 39,
   "id": "62c8e3a9",
   "metadata": {},
   "outputs": [
    {
     "data": {
      "text/plain": [
       "Loan_ID               0\n",
       "Gender               13\n",
       "Married               3\n",
       "Dependents           15\n",
       "Education             0\n",
       "Self_Employed        32\n",
       "ApplicantIncome       0\n",
       "CoapplicantIncome     2\n",
       "LoanAmount           22\n",
       "Loan_Amount_Term     14\n",
       "Credit_History       50\n",
       "Property_Area         0\n",
       "Loan_Status           0\n",
       "dtype: int64"
      ]
     },
     "execution_count": 39,
     "metadata": {},
     "output_type": "execute_result"
    }
   ],
   "source": [
    "#Get the null values\n",
    "nulldf = df.isnull().sum()\n",
    "nulldf"
   ]
  },
  {
   "cell_type": "markdown",
   "id": "ea34ea22",
   "metadata": {},
   "source": [
    "## Log the metrics to the workspace"
   ]
  },
  {
   "cell_type": "code",
   "execution_count": 41,
   "id": "30b844a1",
   "metadata": {},
   "outputs": [],
   "source": [
    "new_run.log('Total Observations', total_observations)"
   ]
  },
  {
   "cell_type": "code",
   "execution_count": 42,
   "id": "d0d0d11c",
   "metadata": {},
   "outputs": [],
   "source": [
    "for columns in df.columns:\n",
    "    new_run.log(columns, nulldf[columns])"
   ]
  },
  {
   "cell_type": "markdown",
   "id": "04a2a5ab",
   "metadata": {},
   "source": [
    "## Complete an experiment"
   ]
  },
  {
   "cell_type": "code",
   "execution_count": 43,
   "id": "ccda99df",
   "metadata": {},
   "outputs": [],
   "source": [
    "new_run.complete()"
   ]
  },
  {
   "cell_type": "code",
   "execution_count": null,
   "id": "6fcbcd10",
   "metadata": {},
   "outputs": [],
   "source": []
  },
  {
   "cell_type": "code",
   "execution_count": null,
   "id": "38990d8c",
   "metadata": {},
   "outputs": [],
   "source": []
  }
 ],
 "metadata": {
  "kernelspec": {
   "display_name": "Python 3",
   "language": "python",
   "name": "python3"
  },
  "language_info": {
   "codemirror_mode": {
    "name": "ipython",
    "version": 3
   },
   "file_extension": ".py",
   "mimetype": "text/x-python",
   "name": "python",
   "nbconvert_exporter": "python",
   "pygments_lexer": "ipython3",
   "version": "3.8.1"
  }
 },
 "nbformat": 4,
 "nbformat_minor": 5
}
