{
 "cells": [
  {
   "cell_type": "code",
   "execution_count": 11,
   "id": "08ac1bcc",
   "metadata": {},
   "outputs": [],
   "source": [
    "# import the azure ML classes\n",
    "from azureml.core import Workspace, Experiment, ScriptRunConfig, Run"
   ]
  },
  {
   "cell_type": "code",
   "execution_count": 2,
   "id": "ee48df5f",
   "metadata": {},
   "outputs": [
    {
     "data": {
      "text/plain": [
       "Workspace.create(name='Azureml-SDK-WS02', subscription_id='f0ec0447-a406-4c0a-922d-f468c99bce13', resource_group='AzuremlSDKRG01')"
      ]
     },
     "execution_count": 2,
     "metadata": {},
     "output_type": "execute_result"
    }
   ],
   "source": [
    "# Access the workspace \n",
    "ws = Workspace.from_config()\n",
    "ws"
   ]
  },
  {
   "cell_type": "code",
   "execution_count": 4,
   "id": "5b0f666e",
   "metadata": {},
   "outputs": [
    {
     "data": {
      "text/html": [
       "<table style=\"width:100%\"><tr><th>Name</th><th>Workspace</th><th>Report Page</th><th>Docs Page</th></tr><tr><td>Loan_SCript</td><td>Azureml-SDK-WS02</td><td><a href=\"https://ml.azure.com/experiments/id/162ba646-507e-440e-98ab-41bd396a2290?wsid=/subscriptions/f0ec0447-a406-4c0a-922d-f468c99bce13/resourcegroups/AzuremlSDKRG01/workspaces/Azureml-SDK-WS02&amp;tid=f94bf4d9-8097-4794-adf6-a5466ca28563\" target=\"_blank\" rel=\"noopener\">Link to Azure Machine Learning studio</a></td><td><a href=\"https://docs.microsoft.com/en-us/python/api/azureml-core/azureml.core.experiment.Experiment?view=azure-ml-py\" target=\"_blank\" rel=\"noopener\">Link to Documentation</a></td></tr></table>"
      ],
      "text/plain": [
       "Experiment(Name: Loan_SCript,\n",
       "Workspace: Azureml-SDK-WS02)"
      ]
     },
     "execution_count": 4,
     "metadata": {},
     "output_type": "execute_result"
    }
   ],
   "source": [
    "new_experiment = Experiment(workspace = ws,\n",
    "                           name = 'Loan_SCript')\n",
    "\n",
    "new_experiment"
   ]
  },
  {
   "cell_type": "code",
   "execution_count": 13,
   "id": "ae5ce634",
   "metadata": {},
   "outputs": [],
   "source": [
    "script_config = ScriptRunConfig(source_directory = '.',\n",
    "                                script = 'Experiments SDK.ipynb')\n",
    "new_run = new_experiment.submit(config = script_config)"
   ]
  },
  {
   "cell_type": "code",
   "execution_count": 14,
   "id": "b513db6e",
   "metadata": {},
   "outputs": [
    {
     "data": {
      "text/html": [
       "<table style=\"width:100%\"><tr><th>Experiment</th><th>Id</th><th>Type</th><th>Status</th><th>Details Page</th><th>Docs Page</th></tr><tr><td>Loan_SCript</td><td>Loan_SCript_1648104990_a2773c68</td><td>azureml.scriptrun</td><td>Starting</td><td><a href=\"https://ml.azure.com/runs/Loan_SCript_1648104990_a2773c68?wsid=/subscriptions/f0ec0447-a406-4c0a-922d-f468c99bce13/resourcegroups/AzuremlSDKRG01/workspaces/Azureml-SDK-WS02&amp;tid=f94bf4d9-8097-4794-adf6-a5466ca28563\" target=\"_blank\" rel=\"noopener\">Link to Azure Machine Learning studio</a></td><td><a href=\"https://docs.microsoft.com/en-us/python/api/azureml-core/azureml.core.script_run.ScriptRun?view=azure-ml-py\" target=\"_blank\" rel=\"noopener\">Link to Documentation</a></td></tr></table>"
      ],
      "text/plain": [
       "Run(Experiment: Loan_SCript,\n",
       "Id: Loan_SCript_1648104990_a2773c68,\n",
       "Type: azureml.scriptrun,\n",
       "Status: Starting)"
      ]
     },
     "execution_count": 14,
     "metadata": {},
     "output_type": "execute_result"
    }
   ],
   "source": [
    "new_run"
   ]
  },
  {
   "cell_type": "code",
   "execution_count": null,
   "id": "4e23a0b4",
   "metadata": {},
   "outputs": [],
   "source": [
    "new_run.wait_for_completion()"
   ]
  },
  {
   "cell_type": "code",
   "execution_count": 12,
   "id": "9505ecdc",
   "metadata": {},
   "outputs": [
    {
     "data": {
      "text/plain": [
       "<azureml.core.run._OfflineRun at 0x7fd7fc219c40>"
      ]
     },
     "execution_count": 12,
     "metadata": {},
     "output_type": "execute_result"
    }
   ],
   "source": [
    "# new_run = Run.get_context()\n",
    "# new_run"
   ]
  },
  {
   "cell_type": "code",
   "execution_count": null,
   "id": "9a8b9d41",
   "metadata": {},
   "outputs": [],
   "source": []
  }
 ],
 "metadata": {
  "kernelspec": {
   "display_name": "Python 3",
   "language": "python",
   "name": "python3"
  },
  "language_info": {
   "codemirror_mode": {
    "name": "ipython",
    "version": 3
   },
   "file_extension": ".py",
   "mimetype": "text/x-python",
   "name": "python",
   "nbconvert_exporter": "python",
   "pygments_lexer": "ipython3",
   "version": "3.8.1"
  }
 },
 "nbformat": 4,
 "nbformat_minor": 5
}
