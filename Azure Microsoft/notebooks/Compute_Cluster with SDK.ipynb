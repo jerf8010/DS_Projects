{
 "cells": [
  {
   "cell_type": "code",
   "execution_count": 64,
   "id": "7a264e2e",
   "metadata": {},
   "outputs": [
    {
     "data": {
      "text/plain": [
       "Workspace.create(name='Azureml-SDK-WS02', subscription_id='f0ec0447-a406-4c0a-922d-f468c99bce13', resource_group='AzuremlSDKRG01')"
      ]
     },
     "execution_count": 64,
     "metadata": {},
     "output_type": "execute_result"
    }
   ],
   "source": [
    "from azureml.core import Workspace\n",
    "\n",
    "ws = Workspace.from_config()\n",
    "ws"
   ]
  },
  {
   "cell_type": "code",
   "execution_count": 65,
   "id": "53b206ff",
   "metadata": {},
   "outputs": [],
   "source": [
    "# Specify the cluster name\n",
    "cluster_name = 'my-cluster-001'"
   ]
  },
  {
   "cell_type": "code",
   "execution_count": 66,
   "id": "3eb19a22",
   "metadata": {},
   "outputs": [],
   "source": [
    "# Provisioning configuration using AmlCompute\n",
    "from azureml.core.compute import AmlCompute"
   ]
  },
  {
   "cell_type": "code",
   "execution_count": 67,
   "id": "1f290a86",
   "metadata": {},
   "outputs": [],
   "source": [
    "# Configuration of the compute cluster\n",
    "compute_config = AmlCompute.provisioning_configuration(vm_size = 'STANDARD_D11_V2',\n",
    "                                                      max_nodes = 2,\n",
    "                                                      )"
   ]
  },
  {
   "cell_type": "code",
   "execution_count": 68,
   "id": "67cffe9a",
   "metadata": {},
   "outputs": [],
   "source": [
    "# Create the cluster\n",
    "cluster = AmlCompute.create(ws, cluster_name, compute_config)"
   ]
  },
  {
   "cell_type": "code",
   "execution_count": 69,
   "id": "5f111b05",
   "metadata": {},
   "outputs": [
    {
     "data": {
      "text/plain": [
       "AmlCompute(workspace=Workspace.create(name='Azureml-SDK-WS02', subscription_id='f0ec0447-a406-4c0a-922d-f468c99bce13', resource_group='AzuremlSDKRG01'), name=my-cluster-001, id=/subscriptions/f0ec0447-a406-4c0a-922d-f468c99bce13/resourceGroups/AzuremlSDKRG01/providers/Microsoft.MachineLearningServices/workspaces/Azureml-SDK-WS02/computes/my-cluster-001, type=AmlCompute, provisioning_state=Creating, location=eastus2, tags={})"
      ]
     },
     "execution_count": 69,
     "metadata": {},
     "output_type": "execute_result"
    }
   ],
   "source": [
    "cluster"
   ]
  },
  {
   "cell_type": "code",
   "execution_count": null,
   "id": "e543e00e",
   "metadata": {},
   "outputs": [],
   "source": []
  },
  {
   "cell_type": "code",
   "execution_count": null,
   "id": "5c6d2c1d",
   "metadata": {},
   "outputs": [],
   "source": []
  },
  {
   "cell_type": "code",
   "execution_count": null,
   "id": "8ddf5e7e",
   "metadata": {},
   "outputs": [],
   "source": []
  }
 ],
 "metadata": {
  "kernelspec": {
   "display_name": "Python 3",
   "language": "python",
   "name": "python3"
  },
  "language_info": {
   "codemirror_mode": {
    "name": "ipython",
    "version": 3
   },
   "file_extension": ".py",
   "mimetype": "text/x-python",
   "name": "python",
   "nbconvert_exporter": "python",
   "pygments_lexer": "ipython3",
   "version": "3.8.1"
  }
 },
 "nbformat": 4,
 "nbformat_minor": 5
}
